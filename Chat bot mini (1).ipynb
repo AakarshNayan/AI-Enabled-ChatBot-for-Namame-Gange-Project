{
 "cells": [
  {
   "cell_type": "code",
   "execution_count": 1,
   "id": "581982d2",
   "metadata": {},
   "outputs": [
    {
     "name": "stdout",
     "output_type": "stream",
     "text": [
      "WARNING:tensorflow:From C:\\ProgramData\\anaconda3\\Lib\\site-packages\\keras\\src\\losses.py:2976: The name tf.losses.sparse_softmax_cross_entropy is deprecated. Please use tf.compat.v1.losses.sparse_softmax_cross_entropy instead.\n",
      "\n"
     ]
    }
   ],
   "source": [
    "import pandas as pd\n",
    "import numpy as np\n",
    "import matplotlib.pyplot as plt\n",
    "import tensorflow as tf\n",
    "from tensorflow.keras.preprocessing.text import Tokenizer\n",
    "from tensorflow.keras.preprocessing.sequence import pad_sequences"
   ]
  },
  {
   "cell_type": "code",
   "execution_count": 2,
   "id": "f379b46e",
   "metadata": {},
   "outputs": [],
   "source": [
    "intents= [\n",
    "    {\"tag\": \"greeting\",\n",
    "     \"patterns\": [\"Hi\", \"Hey\", \"Is anyone there?\", \"Hello\", \"Hay\",\"Hello\"\n",
    "                ,\"Hi there!\",\n",
    "                \"Good morning!\",\n",
    "                \"Hey!\",\n",
    "                \"Hi 😊\",\n",
    "                \"Yo!\",\n",
    "                \"Greetings, chatqbot!\", \n",
    "                \"Hiya!\",\n",
    "                \"Hey bot, what's up?\",\n",
    "                \"I'm back!\"],\n",
    "     \"responses\": [\"Suprabhat!! Hello\", \"Suprabhat!!\", \"Namaskar\",\n",
    "                   \"Suprabhat!! kaise hai aap\",\n",
    "                   \"Namaskar Good morning\"\" Rise and shine! How can I help you today?\",\n",
    "                   \"Namaskar!! What brings you here today? Any specific questions or tasks on your mind?\",\n",
    "                   \"Suprabhat!!  Great to see you! How can I make your day better?\",\n",
    "                   \"Namaskaram Ready to tackle the day? How can I assist you on your mission?\",\n",
    "                   \"Suprabhat!!  What's up with you?\",                  \n",
    "                    ]\n",
    "    },\n",
    "    {\"tag\": \"goodbye\",\n",
    "     \"patterns\": [\"Bye\", \"See you later\", \"Goodbye\",\n",
    "    \"See ya!\",\n",
    "    \"Farewell\",\n",
    "    \"Goodbye, chatbot!\",\n",
    "    \"I'm heading out\",\n",
    "    \"Thanks for your help. Goodbye!\",\n",
    "    \"Bye, bot!\",\n",
    "    \"Signing off now!\",\n",
    "    \"Leaving for now\"],\n",
    "     \"responses\": [\"See you later \", \"Hope you hade lot of fun\",\"Have a nice day\", \"Bye! Come back again\",\n",
    "                  \"Goodbye! Dhyan rkhiyega\",\n",
    "    \"See ya! If you ever need assistance again, I'll be right here. Take care!\",\n",
    "    \"Farewell! It was a pleasure assisting you. If you need help in the future, don't hesitate to ask.\",\n",
    "    \"Goodbye! It was wonderful chatting with you. Feel free to return whenever you like. Take care!\",\n",
    "    \"Got it! If you ever return and have more questions, I'll be here. Safe travels and goodbye!\",\n",
    "    \"You're welcome! If you ever need assistance again, don't hesitate to ask. Goodbye and have a fantastic day!\",\n",
    "    \"Goodbye! It was a pleasure assisting you. If you ever miss our chats, just drop by. Take care!\",\n",
    "    \"Signing off with a smile! If you need anything later, I'll be here. Goodbye and take it easy!\",\n",
    "    \"Leaving for now? No worries! Whenever you're ready to return, I'll be here to help. Goodbye for now!\",\n",
    "    \"Goodbye, [User]! It was a pleasure assisting you. If you ever come back, I'll be here to help. Take care!\"]\n",
    "    },\n",
    "    {\"tag\": \"thanks\",\n",
    "     \"patterns\": [\"Thanks\", \"Thank you\", \"That's helpful\", \"Thanks for the help\"\n",
    "                 \"Thank you so much!\",\n",
    "    \"Thanks a bunch!\",\n",
    "    \"I appreciate your help, thanks.\",\n",
    "    \"Thanks for your time.\",\n",
    "    \"Thanks a million!\",\n",
    "    \"Thanks for the guidance.\",\n",
    "    \"Thanks, chatbot!\",\n",
    "    \"Thanks for the support.\"],\n",
    "     \"responses\": [\"Happy to help!\", \"Any time!\", \"My pleasure\", \"You're most welcome!\",\n",
    "                  \"You're welcome! If you have any more questions or need further assistance, feel free to ask.\",\n",
    "    \"You're very welcome! I'm here to help. If there's anything else you need, just let me know.\",\n",
    "    \"No problem! If you ever need assistance again, I'm just a message away. Happy to help!\",\n",
    "    \"I'm glad I could assist you! If you ever run into more questions, don't hesitate to reach out. Thank you for using our service!\",\n",
    "    \"You're welcome! I'm here whenever you need assistance. Feel free to reach out at any time.\",\n",
    "    \"A million thanks to you too! If there's anything else I can do for you, just let me know.\",\n",
    "    \"You're welcome! I'm here to guide you whenever you need assistance. If you have more questions, feel free to ask.\",\n",
    "    \"You're welcome! It's always a pleasure assisting you. If you have more tasks or questions, I'm here to help.\",\n",
    "    \"You're very welcome! If you ever need support again, don't hesitate to reach out. Have a great day!\",\n",
    "    \"You're welcome, [User]! If there's anything else I can do for you, just let me know. Thank you for using our service!\"]\n",
    "                   },\n",
    "    {\"tag\": \"about\",\n",
    "     \"patterns\": [\"What is it about\",\"What is Namame gange\",\"Whta is this project about\" ],\n",
    "     \"responses\": [\"The Namami Gange program aims to rejuvenate the sacred Ganges river. It includes initiatives for cleaning the river, conserving its biodiversity, and promoting sustainable development along its banks River Basin War Room & Ganga Museum.What you wanna know about ? 1.River Basin  2.Ganga Museum\"]\n",
    "    },\n",
    "    {\"tag\": \"name\",\n",
    "    \"patterns\": [\"what is your name\",\"name\", \"what should I call you\", \"whats your name?\",\"Who are you?\", \"What are you?\",\"What is yours name\", \"Who you are?\"],\n",
    "    \"responses\": [\"Namaskar! I am Chacha Chaudhary, your friendly guide to the Namami Gange program. How can I assist you today?\",\"HuiHuiHUiHui Mera naam h ChaCha Chaudhary ! How can i help you\"]\n",
    "    },\n",
    "    {\"tag\": \"help\",\n",
    "    \"patterns\": [\"Could you help me?\", \"give me a hand please\", \"Can you help?\", \"What can you do for me?\", \"I need a support\", \"I need a help\", \"support me please\"],\n",
    "    \"responses\": [\"Tell me how can assist you\", \"Tell me your problem to assist you\", \"Yes Sure, How can I support you\"]\n",
    "    },\n",
    "    {\"tag\": \"register\",\n",
    "    \"patterns\": [\"How to register online \", \"online\",\"how to open a new account\", \"I want to create an account\", \"can you create an account for me\", \"how to open a new account\"],\n",
    "    \"responses\": [\"To register your visit to the Ganga River Basin, please visit the official Namami Gange website and fill out the registration form.The visitor registration form requires basic information such as your name, contact details, date of visit, and purpose of visit\" ]\n",
    "    },\n",
    "    {\"tag\": \"activities \",\n",
    "    \"patterns\": [\"Activity\", \"I want to do a activity\", 'tell me to do somethhing',\"What can i do there\"],\n",
    "    \"responses\": [\" Sabbu will take the adventure enthusiasts to indulge in activities like river rafting, kayaking, trekking, and paragliding in the scenic surroundings of the Ganga River Basin.\", \"Sabbu will take the tourists visiting the Ganga River Basin to enjoy a variety of activities such as river rafting, boating, wildlife safaris, and cultural tours.\"]\n",
    "    },\n",
    "    {\"tag\": \"River Basin \",\n",
    "     \"patterns\": [\"Tell me about River basin\",\"Whta is this river basin about\",\"River Basin\" ],\n",
    "     \"responses\": [\"The River Basin War Room is a key component of the Namami Gange program, where strategic planning and coordination take place.The Ganga River Basin covers a vast area of approximately 1,080,000 square kilometers, spanning multiple states in northern India, including Uttarakhand, Uttar Pradesh, Bihar, Jharkhand, and West Bengal.\",]\n",
    "    },\n",
    "    {\"tag\": \"ganga museum \",\n",
    "     \"patterns\": [\"Tell me about Ganga Meuseum \",\"Whta is this Ganga Meuseum about\" ,\"Ganga Meuseum\"],\n",
    "     \"responses\": [\"The Ganga Museum aims to educate visitors about the cultural, spiritual, and ecological aspects of the Ganges river, highlighting its importance in Indian civilization and the global context.The museum may be located in a significant city or town along the banks of the Ganges river, providing easy access for visitors interested in learning about the river's heritage and conservation efforts.\"],\n",
    "    },\n",
    "]\n"
   ]
  },
  {
   "cell_type": "code",
   "execution_count": 3,
   "id": "4f5946b5",
   "metadata": {},
   "outputs": [],
   "source": [
    "data={\"intents\": [\n",
    "    {\"tag\": \"greeting\",\n",
    "     \"patterns\": [\"Hi\", \"Hey\", \"Is anyone there?\", \"Hello\", \"Hay\",\"Hello\"\n",
    "                ,\"Hi there!\",\n",
    "                \"Good morning!\",\n",
    "                \"Hey!\",\n",
    "                \"Hi 😊\",\n",
    "                \"Yo!\",\n",
    "                \"Greetings, chatqbot!\", \n",
    "                \"Hiya!\",\n",
    "                \"Hey bot, what's up?\",\n",
    "                \"I'm back!\"],\n",
    "     \"responses\": [\"Suprabhat!! Hello\", \"Suprabhat!!\", \"Namaskar\",\n",
    "                   \"Suprabhat!! kaise hai aap\",\n",
    "                   \"Namaskar Good morning\"\" Rise and shine! How can I help you today?\",\n",
    "                   \"Namaskar!! What brings you here today? Any specific questions or tasks on your mind?\",\n",
    "                   \"Suprabhat!!  Great to see you! How can I make your day better?\",\n",
    "                   \"Yo! Nice to have you here. What can I do for you today?\",\n",
    "                   \"Greetings! Feel free to ask me anything or let me know what you need assistance with.\",\n",
    "                   \"Namaskaram Ready to tackle the day? How can I assist you on your mission?\",\n",
    "                   \"Suprabhat!!  What's up with you?\",                  \n",
    "                   \"Welcome back! It's always a pleasure to have you here. How can I help you today\", ]\n",
    "    },\n",
    "    {\"tag\": \"goodbye\",\n",
    "     \"patterns\": [\"Bye\", \"See you later\", \"Goodbye\",\n",
    "    \"See ya!\",\n",
    "    \"Farewell\",\n",
    "    \"Goodbye, chatbot!\",\n",
    "    \"I'm heading out\",\n",
    "    \"Thanks for your help. Goodbye!\",\n",
    "    \"Bye, bot!\",\n",
    "    \"Signing off now!\",\n",
    "    \"Leaving for now\"],\n",
    "     \"responses\": [\"See you later \", \"Hope you hade lot of fun\",\"Have a nice day\", \"Bye! Come back again\",\n",
    "                  \"Goodbye! Dhyan rkhiyega\",\n",
    "    \"See ya! If you ever need assistance again, I'll be right here. Take care!\",\n",
    "    \"Farewell! It was a pleasure assisting you. If you need help in the future, don't hesitate to ask.\",\n",
    "    \"Goodbye! It was wonderful chatting with you. Feel free to return whenever you like. Take care!\",\n",
    "    \"Got it! If you ever return and have more questions, I'll be here. Safe travels and goodbye!\",\n",
    "    \"You're welcome! If you ever need assistance again, don't hesitate to ask. Goodbye and have a fantastic day!\",\n",
    "    \"Goodbye! It was a pleasure assisting you. If you ever miss our chats, just drop by. Take care!\",\n",
    "    \"Signing off with a smile! If you need anything later, I'll be here. Goodbye and take it easy!\",\n",
    "    \"Leaving for now? No worries! Whenever you're ready to return, I'll be here to help. Goodbye for now!\",\n",
    "    \"Goodbye, [User]! It was a pleasure assisting you. If you ever come back, I'll be here to help. Take care!\"]\n",
    "    },\n",
    "    {\"tag\": \"thanks\",\n",
    "     \"patterns\": [\"Thanks\", \"Thank you\", \"That's helpful\", \"Thanks for the help\"\n",
    "                 \"Thank you so much!\",\n",
    "    \"Thanks a bunch!\",\n",
    "    \"I appreciate your help, thanks.\",\n",
    "    \"Thanks for your time.\",\n",
    "    \"Thanks a million!\",\n",
    "    \"Thanks for the guidance.\",\n",
    "    \"Thanks, chatbot!\",\n",
    "    \"Thanks for the support.\"],\n",
    "     \"responses\": [\"Happy to help!\", \"Any time!\", \"My pleasure\", \"You're most welcome!\",\n",
    "                  \"You're welcome! If you have any more questions or need further assistance, feel free to ask.\",\n",
    "    \"You're very welcome! I'm here to help. If there's anything else you need, just let me know.\",\n",
    "    \"No problem! If you ever need assistance again, I'm just a message away. Happy to help!\",\n",
    "    \"I'm glad I could assist you! If you ever run into more questions, don't hesitate to reach out. Thank you for using our service!\",\n",
    "    \"You're welcome! I'm here whenever you need assistance. Feel free to reach out at any time.\",\n",
    "    \"A million thanks to you too! If there's anything else I can do for you, just let me know.\",\n",
    "    \"You're welcome! I'm here to guide you whenever you need assistance. If you have more questions, feel free to ask.\",\n",
    "    \"You're welcome! It's always a pleasure assisting you. If you have more tasks or questions, I'm here to help.\",\n",
    "    \"You're very welcome! If you ever need support again, don't hesitate to reach out. Have a great day!\",\n",
    "    \"You're welcome, [User]! If there's anything else I can do for you, just let me know. Thank you for using our service!\"]\n",
    "                   },\n",
    "    {\"tag\": \"about\",\n",
    "     \"patterns\": [\"What is it about\",\"What is Namame gange\",\"Whta is this project about\" ],\n",
    "     \"responses\": [\"The Namami Gange program aims to rejuvenate the sacred Ganges river. It includes initiatives for cleaning the river, conserving its biodiversity, and promoting sustainable development along its banks River Basin War Room & Ganga Museum.What you wanna know about ? 1.River Basin  2.Ganga Museum\"]\n",
    "    },\n",
    "    {\"tag\": \"name\",\n",
    "    \"patterns\": [\"what is your name\", \"what should I call you\", \"whats your name?\",\"Who are you?\", \"What are you?\", \"Who you are?\"],\n",
    "    \"responses\": [\"Namaskar! I am Chacha Chaudhary, your friendly guide to the Namami Gange program. How can I assist you today?\",\"HuiHuiHUiHui Mera naam h ChaCha Chaudhary ! How can i help you\"]\n",
    "    },\n",
    "    {\"tag\": \"help\",\n",
    "    \"patterns\": [\"Could you help me?\", \"give me a hand please\", \"Can you help?\", \"What can you do for me?\", \"I need a support\", \"I need a help\", \"support me please\"],\n",
    "    \"responses\": [\"Tell me how can assist you\", \"Tell me your problem to assist you\", \"Yes Sure, How can I support you\"]\n",
    "    },\n",
    "    {\"tag\": \"register\",\n",
    "    \"patterns\": [\"How to register online \", \"online\",\"how to open a new account\", \"I want to create an account\", \"can you create an account for me\", \"how to open a new account\"],\n",
    "    \"responses\": [\"To register your visit to the Ganga River Basin, please visit the official Namami Gange website and fill out the registration form.The visitor registration form requires basic information such as your name, contact details, date of visit, and purpose of visit\" ]\n",
    "    },\n",
    "    {\"tag\": \"activities \",\n",
    "    \"patterns\": [\"Activity\", \"I want to do a activity\", \"What can i do there\"],\n",
    "    \"responses\": [\" Sabbu will take the adventure enthusiasts to indulge in activities like river rafting, kayaking, trekking, and paragliding in the scenic surroundings of the Ganga River Basin.\", \"Sabbu will take the tourists visiting the Ganga River Basin to enjoy a variety of activities such as river rafting, boating, wildlife safaris, and cultural tours.\"]\n",
    "    },\n",
    "    {\"tag\": \"River Basin \",\n",
    "     \"patterns\": [\"Tell me about River basin\",\"Whta is this river basin about\",\"River Basin\" ],\n",
    "     \"responses\": [\"The River Basin War Room is a key component of the Namami Gange program, where strategic planning and coordination take place.The Ganga River Basin covers a vast area of approximately 1,080,000 square kilometers, spanning multiple states in northern India, including Uttarakhand, Uttar Pradesh, Bihar, Jharkhand, and West Bengal.\",]\n",
    "    },\n",
    "    {\"tag\": \"ganga museum \",\n",
    "     \"patterns\": [\"Tell me about Ganga Meuseum \",\"Whta is this Ganga Meuseum about\" ,\"Ganga Meuseum\"],\n",
    "     \"responses\": [\"The Ganga Museum aims to educate visitors about the cultural, spiritual, and ecological aspects of the Ganges river, highlighting its importance in Indian civilization and the global context.The museum may be located in a significant city or town along the banks of the Ganges river, providing easy access for visitors interested in learning about the river's heritage and conservation efforts.\"],\n",
    "    },\n",
    "]}"
   ]
  },
  {
   "cell_type": "code",
   "execution_count": 4,
   "id": "f0dcba4b",
   "metadata": {},
   "outputs": [
    {
     "name": "stdout",
     "output_type": "stream",
     "text": [
      "['greeting', 'goodbye', 'thanks', 'about', 'name', 'help', 'register', 'activities ', 'River Basin ', 'ganga museum ']\n"
     ]
    }
   ],
   "source": [
    "classes=[i['tag'] for i in intents]\n",
    "print(classes)\n",
    "classes_to_index=dict()\n",
    "for i,j in enumerate(classes):\n",
    "    classes_to_index[j]=i"
   ]
  },
  {
   "cell_type": "code",
   "execution_count": 5,
   "id": "4f3ce577",
   "metadata": {},
   "outputs": [
    {
     "data": {
      "text/plain": [
       "{'greeting': 0,\n",
       " 'goodbye': 1,\n",
       " 'thanks': 2,\n",
       " 'about': 3,\n",
       " 'name': 4,\n",
       " 'help': 5,\n",
       " 'register': 6,\n",
       " 'activities ': 7,\n",
       " 'River Basin ': 8,\n",
       " 'ganga museum ': 9}"
      ]
     },
     "execution_count": 5,
     "metadata": {},
     "output_type": "execute_result"
    }
   ],
   "source": [
    "classes_to_index"
   ]
  },
  {
   "cell_type": "code",
   "execution_count": 6,
   "id": "08fe7ddd",
   "metadata": {},
   "outputs": [
    {
     "data": {
      "text/plain": [
       "['greeting',\n",
       " 'goodbye',\n",
       " 'thanks',\n",
       " 'about',\n",
       " 'name',\n",
       " 'help',\n",
       " 'register',\n",
       " 'activities ',\n",
       " 'River Basin ',\n",
       " 'ganga museum ']"
      ]
     },
     "execution_count": 6,
     "metadata": {},
     "output_type": "execute_result"
    }
   ],
   "source": [
    "training_sentences = []\n",
    "training_labels = []\n",
    "responses=[]\n",
    "classes"
   ]
  },
  {
   "cell_type": "code",
   "execution_count": 7,
   "id": "344636bc",
   "metadata": {},
   "outputs": [],
   "source": [
    "for i in intents:\n",
    "    for j in i['patterns']:\n",
    "        training_sentences.append(j)\n",
    "        training_labels.append(i['tag'])\n",
    "    responses.append(i['responses'])"
   ]
  },
  {
   "cell_type": "code",
   "execution_count": 8,
   "id": "56f14fde",
   "metadata": {},
   "outputs": [
    {
     "data": {
      "text/plain": [
       "['Hi',\n",
       " 'Hey',\n",
       " 'Is anyone there?',\n",
       " 'Hello',\n",
       " 'Hay',\n",
       " 'Hello',\n",
       " 'Hi there!',\n",
       " 'Good morning!',\n",
       " 'Hey!',\n",
       " 'Hi 😊',\n",
       " 'Yo!',\n",
       " 'Greetings, chatqbot!',\n",
       " 'Hiya!',\n",
       " \"Hey bot, what's up?\",\n",
       " \"I'm back!\",\n",
       " 'Bye',\n",
       " 'See you later',\n",
       " 'Goodbye',\n",
       " 'See ya!',\n",
       " 'Farewell',\n",
       " 'Goodbye, chatbot!',\n",
       " \"I'm heading out\",\n",
       " 'Thanks for your help. Goodbye!',\n",
       " 'Bye, bot!',\n",
       " 'Signing off now!',\n",
       " 'Leaving for now',\n",
       " 'Thanks',\n",
       " 'Thank you',\n",
       " \"That's helpful\",\n",
       " 'Thanks for the helpThank you so much!',\n",
       " 'Thanks a bunch!',\n",
       " 'I appreciate your help, thanks.',\n",
       " 'Thanks for your time.',\n",
       " 'Thanks a million!',\n",
       " 'Thanks for the guidance.',\n",
       " 'Thanks, chatbot!',\n",
       " 'Thanks for the support.',\n",
       " 'What is it about',\n",
       " 'What is Namame gange',\n",
       " 'Whta is this project about',\n",
       " 'what is your name',\n",
       " 'name',\n",
       " 'what should I call you',\n",
       " 'whats your name?',\n",
       " 'Who are you?',\n",
       " 'What are you?',\n",
       " 'What is yours name',\n",
       " 'Who you are?',\n",
       " 'Could you help me?',\n",
       " 'give me a hand please',\n",
       " 'Can you help?',\n",
       " 'What can you do for me?',\n",
       " 'I need a support',\n",
       " 'I need a help',\n",
       " 'support me please',\n",
       " 'How to register online ',\n",
       " 'online',\n",
       " 'how to open a new account',\n",
       " 'I want to create an account',\n",
       " 'can you create an account for me',\n",
       " 'how to open a new account',\n",
       " 'Activity',\n",
       " 'I want to do a activity',\n",
       " 'tell me to do somethhing',\n",
       " 'What can i do there',\n",
       " 'Tell me about River basin',\n",
       " 'Whta is this river basin about',\n",
       " 'River Basin',\n",
       " 'Tell me about Ganga Meuseum ',\n",
       " 'Whta is this Ganga Meuseum about',\n",
       " 'Ganga Meuseum']"
      ]
     },
     "execution_count": 8,
     "metadata": {},
     "output_type": "execute_result"
    }
   ],
   "source": [
    "(training_sentences)"
   ]
  },
  {
   "cell_type": "code",
   "execution_count": 9,
   "id": "2ffb70be",
   "metadata": {},
   "outputs": [
    {
     "data": {
      "text/plain": [
       "71"
      ]
     },
     "execution_count": 9,
     "metadata": {},
     "output_type": "execute_result"
    }
   ],
   "source": [
    "len(training_labels)"
   ]
  },
  {
   "cell_type": "code",
   "execution_count": 10,
   "id": "dcd23ab9",
   "metadata": {},
   "outputs": [],
   "source": [
    "from sklearn.preprocessing import LabelEncoder"
   ]
  },
  {
   "cell_type": "code",
   "execution_count": 11,
   "id": "e9f5fda3",
   "metadata": {},
   "outputs": [],
   "source": [
    "lbenc=LabelEncoder()\n",
    "lbenc.fit(training_labels)\n",
    "training_labels=lbenc.transform(training_labels)"
   ]
  },
  {
   "cell_type": "code",
   "execution_count": 12,
   "id": "3bbfdb58",
   "metadata": {},
   "outputs": [
    {
     "data": {
      "text/plain": [
       "array([5, 5, 5, 5, 5, 5, 5, 5, 5, 5, 5, 5, 5, 5, 5, 4, 4, 4, 4, 4, 4, 4,\n",
       "       4, 4, 4, 4, 9, 9, 9, 9, 9, 9, 9, 9, 9, 9, 9, 1, 1, 1, 7, 7, 7, 7,\n",
       "       7, 7, 7, 7, 6, 6, 6, 6, 6, 6, 6, 8, 8, 8, 8, 8, 8, 2, 2, 2, 2, 0,\n",
       "       0, 0, 3, 3, 3])"
      ]
     },
     "execution_count": 12,
     "metadata": {},
     "output_type": "execute_result"
    }
   ],
   "source": [
    "training_labels"
   ]
  },
  {
   "cell_type": "code",
   "execution_count": 13,
   "id": "45462f78",
   "metadata": {},
   "outputs": [
    {
     "data": {
      "text/plain": [
       "array(['River Basin ', 'about', 'activities ', 'ganga museum ', 'goodbye',\n",
       "       'greeting', 'help', 'name', 'register', 'thanks'], dtype='<U13')"
      ]
     },
     "execution_count": 13,
     "metadata": {},
     "output_type": "execute_result"
    }
   ],
   "source": [
    "lbenc.classes_"
   ]
  },
  {
   "cell_type": "code",
   "execution_count": 14,
   "id": "15878f10",
   "metadata": {},
   "outputs": [
    {
     "data": {
      "text/plain": [
       "['greeting',\n",
       " 'goodbye',\n",
       " 'thanks',\n",
       " 'about',\n",
       " 'name',\n",
       " 'help',\n",
       " 'register',\n",
       " 'activities ',\n",
       " 'River Basin ',\n",
       " 'ganga museum ']"
      ]
     },
     "execution_count": 14,
     "metadata": {},
     "output_type": "execute_result"
    }
   ],
   "source": [
    "classes"
   ]
  },
  {
   "cell_type": "code",
   "execution_count": 15,
   "id": "87e80ff1",
   "metadata": {},
   "outputs": [],
   "source": [
    "le_name_mapping = dict(zip(lbenc.classes_, lbenc.transform(lbenc.classes_)))"
   ]
  },
  {
   "cell_type": "code",
   "execution_count": 16,
   "id": "87c808a5",
   "metadata": {},
   "outputs": [
    {
     "data": {
      "text/plain": [
       "{'River Basin ': 0,\n",
       " 'about': 1,\n",
       " 'activities ': 2,\n",
       " 'ganga museum ': 3,\n",
       " 'goodbye': 4,\n",
       " 'greeting': 5,\n",
       " 'help': 6,\n",
       " 'name': 7,\n",
       " 'register': 8,\n",
       " 'thanks': 9}"
      ]
     },
     "execution_count": 16,
     "metadata": {},
     "output_type": "execute_result"
    }
   ],
   "source": [
    "le_name_mapping"
   ]
  },
  {
   "cell_type": "code",
   "execution_count": 17,
   "id": "a38da6b1",
   "metadata": {},
   "outputs": [],
   "source": [
    "vocab_size = 1000\n",
    "embedding_dim = 16\n",
    "max_len = 20\n",
    "oov_token = \"<OOV>\""
   ]
  },
  {
   "cell_type": "code",
   "execution_count": 18,
   "id": "e8c3d561",
   "metadata": {},
   "outputs": [],
   "source": [
    "tokenizer=Tokenizer(num_words=vocab_size,oov_token=oov_token)\n",
    "tokenizer.fit_on_texts(training_sentences)\n",
    "word_index=tokenizer.word_index\n",
    "sequences=tokenizer.texts_to_sequences(training_sentences)\n",
    "padded_sequences = pad_sequences(sequences, truncating='post', maxlen=max_len)\n"
   ]
  },
  {
   "cell_type": "code",
   "execution_count": 19,
   "id": "d216bf1d",
   "metadata": {},
   "outputs": [
    {
     "name": "stdout",
     "output_type": "stream",
     "text": [
      "WARNING:tensorflow:From C:\\ProgramData\\anaconda3\\Lib\\site-packages\\keras\\src\\backend.py:873: The name tf.get_default_graph is deprecated. Please use tf.compat.v1.get_default_graph instead.\n",
      "\n",
      "WARNING:tensorflow:From C:\\ProgramData\\anaconda3\\Lib\\site-packages\\keras\\src\\optimizers\\__init__.py:309: The name tf.train.Optimizer is deprecated. Please use tf.compat.v1.train.Optimizer instead.\n",
      "\n",
      "Model: \"sequential\"\n",
      "_________________________________________________________________\n",
      " Layer (type)                Output Shape              Param #   \n",
      "=================================================================\n",
      " embedding (Embedding)       (None, 20, 16)            16000     \n",
      "                                                                 \n",
      " bidirectional (Bidirection  (None, 64)                12544     \n",
      " al)                                                             \n",
      "                                                                 \n",
      " dense (Dense)               (None, 16)                1040      \n",
      "                                                                 \n",
      " dense_1 (Dense)             (None, 16)                272       \n",
      "                                                                 \n",
      " dense_2 (Dense)             (None, 8)                 136       \n",
      "                                                                 \n",
      "=================================================================\n",
      "Total params: 29992 (117.16 KB)\n",
      "Trainable params: 29992 (117.16 KB)\n",
      "Non-trainable params: 0 (0.00 Byte)\n",
      "_________________________________________________________________\n"
     ]
    }
   ],
   "source": [
    "from tensorflow.keras import Sequential\n",
    "from tensorflow.keras.layers import Embedding,LSTM,Dense,Bidirectional\n",
    "model = Sequential()\n",
    "model.add(Embedding(vocab_size, embedding_dim, input_length=max_len))\n",
    "model.add(Bidirectional(LSTM(32)))\n",
    "model.add(Dense(16, activation='relu'))\n",
    "model.add(Dense(16, activation='relu'))\n",
    "model.add(Dense(8, activation='softmax'))\n",
    "\n",
    "model.compile(loss='sparse_categorical_crossentropy', \n",
    "              optimizer='adam', metrics=['accuracy'])\n",
    "\n",
    "model.summary()"
   ]
  },
  {
   "cell_type": "code",
   "execution_count": null,
   "id": "065125c3",
   "metadata": {},
   "outputs": [
    {
     "name": "stdout",
     "output_type": "stream",
     "text": [
      "Epoch 1/500\n"
     ]
    }
   ],
   "source": [
    "epochs = 500\n",
    "history = model.fit(padded_sequences, np.array(training_labels), epochs=epochs)\n"
   ]
  },
  {
   "cell_type": "code",
   "execution_count": null,
   "id": "c154f6fe",
   "metadata": {},
   "outputs": [],
   "source": [
    "loss=pd.DataFrame(model.history.history)"
   ]
  },
  {
   "cell_type": "code",
   "execution_count": null,
   "id": "a2b3bd4e",
   "metadata": {},
   "outputs": [],
   "source": [
    "plt.plot(loss['loss'])"
   ]
  },
  {
   "cell_type": "code",
   "execution_count": null,
   "id": "4518c9bd",
   "metadata": {},
   "outputs": [],
   "source": [
    "model.save(\"chat_model.h5\")\n"
   ]
  },
  {
   "cell_type": "code",
   "execution_count": null,
   "id": "535e2b6d",
   "metadata": {},
   "outputs": [],
   "source": [
    "import json \n",
    "import numpy as np\n",
    "from tensorflow import keras\n",
    "from sklearn.preprocessing import LabelEncoder\n",
    "\n",
    "import colorama \n",
    "colorama.init()\n",
    "from colorama import Fore, Style, Back\n",
    "\n",
    "import random\n",
    "\n",
    "\n",
    "def chat():\n",
    "\n",
    "    max_len = 20\n",
    "    \n",
    "    while True:\n",
    "        print(Fore.LIGHTBLUE_EX + \"User: \" + Style.RESET_ALL, end=\"\")\n",
    "        inp = input()\n",
    "        if inp.lower() == \"quit\":\n",
    "            break\n",
    "\n",
    "        result = model.predict(keras.preprocessing.sequence.pad_sequences(tokenizer.texts_to_sequences([inp]),\n",
    "                                             truncating='post', maxlen=max_len))\n",
    "        tag = lbenc.inverse_transform([np.argmax(result)])\n",
    "\n",
    "        for i in data['intents']:\n",
    "            if i['tag'] == tag:\n",
    "                print(Fore.GREEN + \"ChatBot:\" + Style.RESET_ALL , np.random.choice(i['responses']))\n",
    "\n",
    "        # print(Fore.GREEN + \"ChatBot:\" + Style.RESET_ALL,random.choice(responses))\n",
    "\n",
    "print(Fore.YELLOW + \"Start messaging with the bot (type quit to stop)!\" + Style.RESET_ALL)\n",
    "chat()"
   ]
  },
  {
   "cell_type": "code",
   "execution_count": null,
   "id": "73c6bcbb",
   "metadata": {},
   "outputs": [],
   "source": []
  },
  {
   "cell_type": "code",
   "execution_count": null,
   "id": "667f4941",
   "metadata": {},
   "outputs": [],
   "source": []
  }
 ],
 "metadata": {
  "kernelspec": {
   "display_name": "Python 3 (ipykernel)",
   "language": "python",
   "name": "python3"
  },
  "language_info": {
   "codemirror_mode": {
    "name": "ipython",
    "version": 3
   },
   "file_extension": ".py",
   "mimetype": "text/x-python",
   "name": "python",
   "nbconvert_exporter": "python",
   "pygments_lexer": "ipython3",
   "version": "3.11.5"
  }
 },
 "nbformat": 4,
 "nbformat_minor": 5
}
